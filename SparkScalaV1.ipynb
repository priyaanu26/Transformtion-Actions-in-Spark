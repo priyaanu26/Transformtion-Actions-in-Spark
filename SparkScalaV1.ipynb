{
 "cells": [
  {
   "cell_type": "code",
   "execution_count": 30,
   "metadata": {},
   "outputs": [
    {
     "data": {
      "text/plain": [
       "2.4.4"
      ]
     },
     "execution_count": 30,
     "metadata": {},
     "output_type": "execute_result"
    }
   ],
   "source": [
    "sc.version"
   ]
  },
  {
   "cell_type": "markdown",
   "metadata": {},
   "source": [
    "### Sample Dataset - customer.txt and sales.txt"
   ]
  },
  {
   "cell_type": "raw",
   "metadata": {},
   "source": [
    "//Dataset 1: CUSTOMER.txt\n",
    "123,AAA Inc,1 First Ave Mountain View CA,94040\n",
    "456,ABC Inc,2 First Ave Fayetteville AK,72703\n",
    "789,DEF Inc,3 First Ave Mobile AL,36571\n",
    "101112,GHI Inc,4 First Ave Portland OR,97205\n",
    "\n",
    "//Dataset 2: SALES.txt\n",
    "1470045600,456,123458\n",
    "1454313600,123,123456\n",
    "1470049200,789,123459\n",
    "1501578000,789,123457\n",
    "1470049201,789,223459"
   ]
  },
  {
   "cell_type": "code",
   "execution_count": 139,
   "metadata": {
    "scrolled": true
   },
   "outputs": [
    {
     "name": "stdout",
     "output_type": "stream",
     "text": [
      "123,AAA Inc,1 First Ave Mountain View CA,94040\n",
      "456,ABC Inc,2 First Ave Fayetteville AK,72703\n",
      "789,DEF Inc,3 First Ave Mobile AL,36571\n",
      "101112,GHI Inc,4 First Ave Portland OR,97205\n",
      "1470045600,456,123458\n",
      "1454313600,123,123456\n",
      "1470049200,789,123459\n",
      "1501578000,789,123457\n",
      "1470049201,789,223459\n"
     ]
    },
    {
     "data": {
      "text/plain": [
       "defined class Customer\n",
       "defined class CustomerOrder\n",
       "customerFileRdd = customer.txt MapPartitionsRDD[265] at textFile at <console>:28\n",
       "salesFileRdd = sales.txt MapPartitionsRDD[267] at textFile at <console>:31\n"
      ]
     },
     "metadata": {},
     "output_type": "display_data"
    },
    {
     "data": {
      "text/plain": [
       "sales.txt MapPartitionsRDD[267] at textFile at <console>:31"
      ]
     },
     "execution_count": 139,
     "metadata": {},
     "output_type": "execute_result"
    }
   ],
   "source": [
    "case class Customer(id: String, name: String, address: String, zip: String) {  //case class Customer(_1:String,_2:String,_3:String,_4:String)\n",
    "  val city = address.split(' ').last\n",
    "}\n",
    "\n",
    "import java.util.Date\n",
    "case class CustomerOrder(private val timeStamp: Long, customerId: String, sales: Double) { //case class CustomerOrder(_1:Long,_2:String,_3:Double)\n",
    "  val date = new Date(timeStamp * 1000)\n",
    "}\n",
    "\n",
    "//RDD\n",
    "val customerFileRdd = sc.textFile(\"customer.txt\")\n",
    "//println(\"CustomerRDD:\\n\"+customerFileRdd.collect.mkString(\"#   \"))\n",
    "customerFileRdd.collect().foreach(println)\n",
    "val salesFileRdd = sc.textFile(\"sales.txt\")\n",
    "//println(\"SalesRDD:\\n\"+salesFileRdd.collect.mkString(\", \"))\n",
    "salesFileRdd.collect().foreach(println)\n"
   ]
  },
  {
   "cell_type": "markdown",
   "metadata": {},
   "source": [
    "## Map\n",
    "Return a new RDD by applying a function to each element of this RDD."
   ]
  },
  {
   "cell_type": "code",
   "execution_count": 32,
   "metadata": {},
   "outputs": [
    {
     "data": {
      "text/plain": [
       "customerTable = MapPartitionsRDD[83] at map at <console>:39\n"
      ]
     },
     "metadata": {},
     "output_type": "display_data"
    },
    {
     "data": {
      "text/plain": [
       "Array((123,Customer(123,AAA Inc,1 First Ave Mountain View CA,94040)), (456,Customer(456,ABC Inc,2 First Ave Fayetteville AK,72703)), (789,Customer(789,DEF Inc,3 First Ave Mobile AL,36571)), (101112,Customer(101112,GHI Inc,4 First Ave Portland OR,97205)))"
      ]
     },
     "execution_count": 32,
     "metadata": {},
     "output_type": "execute_result"
    }
   ],
   "source": [
    "val customerTable = customerFileRdd.flatMap(x => x.split('\\n'))\n",
    "                                   .map(y => y.split(','))\n",
    "                                   .map(z => (z(0), Customer(z(0), z(1), z(2), z(3))))\n",
    "customerTable.collect()"
   ]
  },
  {
   "cell_type": "code",
   "execution_count": 55,
   "metadata": {},
   "outputs": [
    {
     "data": {
      "text/plain": [
       "salesTable = MapPartitionsRDD[106] at map at <console>:37\n"
      ]
     },
     "metadata": {},
     "output_type": "display_data"
    },
    {
     "data": {
      "text/plain": [
       "Array((456,CustomerOrder(1470045600,456,123458.0)), (123,CustomerOrder(1454313600,123,123456.0)), (789,CustomerOrder(1470049200,789,123459.0)), (789,CustomerOrder(1501578000,789,123457.0)), (789,CustomerOrder(1470049201,789,223459.0)))"
      ]
     },
     "execution_count": 55,
     "metadata": {},
     "output_type": "execute_result"
    }
   ],
   "source": [
    "val salesTable = salesFileRdd.map(x => {\n",
    "    val z = x.split(',')\n",
    "    (z(1), CustomerOrder(z(0).toLong, z(1), z(2).toDouble))\n",
    "  })\n",
    "salesTable.collect()"
   ]
  },
  {
   "cell_type": "markdown",
   "metadata": {},
   "source": [
    "## JOIN - union(otherRDD, numPartitions=None) \n",
    "Return a new RDD containing all pairs of elements having the same key in the original RDDs\n"
   ]
  },
  {
   "attachments": {
    "join.png": {
     "image/png": "[encoded data removed]"
    }
   },
   "cell_type": "markdown",
   "metadata": {},
   "source": [
    "![join.png](attachment:join.png)"
   ]
  },
  {
   "cell_type": "code",
   "execution_count": 37,
   "metadata": {},
   "outputs": [
    {
     "data": {
      "text/plain": [
       "joinedRdd = MapPartitionsRDD[92] at join at <console>:37\n"
      ]
     },
     "metadata": {},
     "output_type": "display_data"
    },
    {
     "data": {
      "text/plain": [
       "Array((123,(Customer(123,AAA Inc,1 First Ave Mountain View CA,94040),CustomerOrder(1454313600,123,123456.0))), (789,(Customer(789,DEF Inc,3 First Ave Mobile AL,36571),CustomerOrder(1470049200,789,123459.0))), (789,(Customer(789,DEF Inc,3 First Ave Mobile AL,36571),CustomerOrder(1501578000,789,123457.0))), (789,(Customer(789,DEF Inc,3 First Ave Mobile AL,36571),CustomerOrder(1470049201,789,223459.0))), (456,(Customer(456,ABC Inc,2 First Ave Fayetteville AK,72703),CustomerOrder(1470045600,456,123458.0))))"
      ]
     },
     "execution_count": 37,
     "metadata": {},
     "output_type": "execute_result"
    }
   ],
   "source": [
    "val joinedRdd = customerTable join salesTable\n",
    "joinedRdd.collect()"
   ]
  },
  {
   "cell_type": "markdown",
   "metadata": {},
   "source": [
    "## ReduceByKey \n",
    "Group the values for each key in the original RDD. Create a new pair where the original key corresponds to this collected group of value"
   ]
  },
  {
   "attachments": {
    "ReduceByKey.png": {
     "image/png": "[encoded data removed]"
    }
   },
   "cell_type": "markdown",
   "metadata": {},
   "source": [
    "![ReduceByKey.png](attachment:ReduceByKey.png)"
   ]
  },
  {
   "cell_type": "code",
   "execution_count": 102,
   "metadata": {},
   "outputs": [
    {
     "data": {
      "text/plain": [
       "yearlyReport = MapPartitionsRDD[176] at map at <console>:40\n"
      ]
     },
     "metadata": {},
     "output_type": "display_data"
    },
    {
     "data": {
      "text/plain": [
       "warning: there was one deprecation warning; re-run with -deprecation for details\n"
      ]
     },
     "metadata": {},
     "output_type": "display_data"
    },
    {
     "data": {
      "text/plain": [
       "Array(AL,2017,123457.0, AK,2016,123458.0, AL,2016,346918.0, CA,2016,123456.0)"
      ]
     },
     "execution_count": 102,
     "metadata": {},
     "output_type": "execute_result"
    }
   ],
   "source": [
    "val yearlyReport = joinedRdd\n",
    "      .map(joinedTuple => ((joinedTuple._2._1.city, joinedTuple._2._2.date.getYear + 1900, joinedTuple._1),joinedTuple._2._2.sales))\n",
    "      .reduceByKey(_ + _)\n",
    "      .map(deducedTuple => s\"${deducedTuple._1._1},${deducedTuple._1._2},${deducedTuple._2}\")\n",
    "\n",
    "yearlyReport.collect()"
   ]
  },
  {
   "cell_type": "code",
   "execution_count": 103,
   "metadata": {},
   "outputs": [
    {
     "data": {
      "text/plain": [
       "monthlyReport = MapPartitionsRDD[179] at map at <console>:40\n"
      ]
     },
     "metadata": {},
     "output_type": "display_data"
    },
    {
     "data": {
      "text/plain": [
       "warning: there were two deprecation warnings; re-run with -deprecation for details\n"
      ]
     },
     "metadata": {},
     "output_type": "display_data"
    },
    {
     "data": {
      "text/plain": [
       "Array(AK,2016,8,123458.0, CA,2016,2,123456.0, AL,2016,8,346918.0, AL,2017,8,123457.0)"
      ]
     },
     "execution_count": 103,
     "metadata": {},
     "output_type": "execute_result"
    }
   ],
   "source": [
    "val monthlyReport = joinedRdd.\n",
    "      map(joinedTuple => ((joinedTuple._2._1.city, joinedTuple._2._2.date.getYear + 1900, joinedTuple._2._2.date.getMonth + 1, joinedTuple._1),joinedTuple._2._2.sales))\n",
    "      .reduceByKey(_ + _)\n",
    "      .map(y => s\"${y._1._1},${y._1._2},${y._1._3},${y._2}\")\n",
    "monthlyReport.collect()"
   ]
  },
  {
   "cell_type": "code",
   "execution_count": 104,
   "metadata": {},
   "outputs": [
    {
     "data": {
      "text/plain": [
       "dailyReport = MapPartitionsRDD[182] at map at <console>:38\n"
      ]
     },
     "metadata": {},
     "output_type": "display_data"
    },
    {
     "data": {
      "text/plain": [
       "warning: there were three deprecation warnings; re-run with -deprecation for details\n"
      ]
     },
     "metadata": {},
     "output_type": "display_data"
    },
    {
     "data": {
      "text/plain": [
       "Array(CA,2016,2,2,123456.0, AL,2017,8,8,123457.0, AL,2016,8,8,346918.0, AK,2016,8,8,123458.0)"
      ]
     },
     "execution_count": 104,
     "metadata": {},
     "output_type": "execute_result"
    }
   ],
   "source": [
    "val dailyReport = joinedRdd\n",
    "      .map(joinedTuple => ((joinedTuple._2._1.city, joinedTuple._2._2.date.getYear + 1900, joinedTuple._2._2.date.getMonth + 1, joinedTuple._2._2.date.getDate, joinedTuple._1),joinedTuple._2._2.sales))\n",
    "      .reduceByKey(_ + _)\n",
    "      .map(deducedTuple => s\"${deducedTuple._1._1},${deducedTuple._1._2},${deducedTuple._1._3},${deducedTuple._1._3},${deducedTuple._2}\")\n",
    "dailyReport.collect()"
   ]
  },
  {
   "cell_type": "markdown",
   "metadata": {},
   "source": [
    "## UNION - union(otherRDD)\n",
    "\n",
    "Return a new RDD containing all items from two original RDDs. Duplicates are not culled\n",
    "\n"
   ]
  },
  {
   "attachments": {
    "union.png": {
     "image/png": "[encoded data removed]"
    }
   },
   "cell_type": "markdown",
   "metadata": {},
   "source": [
    "![union.png](attachment:union.png)"
   ]
  },
  {
   "cell_type": "code",
   "execution_count": 115,
   "metadata": {},
   "outputs": [
    {
     "data": {
      "text/plain": [
       "collective = MapPartitionsRDD[200] at map at <console>:41\n"
      ]
     },
     "metadata": {},
     "output_type": "display_data"
    },
    {
     "data": {
      "text/plain": [
       "Array((AL,AL,2017,123457.0), (AK,AK,2016,123458.0), (AL,AL,2016,346918.0), (CA,CA,2016,123456.0), (AK,AK,2016,8,123458.0), (CA,CA,2016,2,123456.0), (AL,AL,2016,8,346918.0), (AL,AL,2017,8,123457.0), (CA,CA,2016,2,2,123456.0), (AL,AL,2017,8,8,123457.0), (AL,AL,2016,8,8,346918.0), (AK,AK,2016,8,8,123458.0))"
      ]
     },
     "execution_count": 115,
     "metadata": {},
     "output_type": "execute_result"
    }
   ],
   "source": [
    "val collective = yearlyReport union monthlyReport union dailyReport map(x => {\n",
    "      val city = x.split(',')(0)\n",
    "      (city, x)\n",
    "    })\n",
    "collective.collect()"
   ]
  },
  {
   "cell_type": "code",
   "execution_count": 140,
   "metadata": {},
   "outputs": [
    {
     "name": "stdout",
     "output_type": "stream",
     "text": [
      "AK,2016,123458.0\n",
      "AK,2016,8,123458.0\n",
      "AK,2016,8,8,123458.0\n",
      "AL,2017,123457.0\n",
      "AL,2016,346918.0\n",
      "AL,2016,8,346918.0\n",
      "AL,2017,8,123457.0\n",
      "AL,2017,8,8,123457.0\n",
      "AL,2016,8,8,346918.0\n",
      "CA,2016,123456.0\n",
      "CA,2016,2,123456.0\n",
      "CA,2016,2,2,123456.0\n"
     ]
    }
   ],
   "source": [
    "collective.sortBy(x => x._1).map(x => x._2).collect().foreach(println)"
   ]
  },
  {
   "cell_type": "code",
   "execution_count": 143,
   "metadata": {},
   "outputs": [
    {
     "data": {
      "text/plain": [
       "lastException: Throwable = null\n"
      ]
     },
     "metadata": {},
     "output_type": "display_data"
    }
   ],
   "source": [
    "collective.sortBy(x => x._1).map(x => x._2).repartition(1).saveAsTextFile(\"file:///home/jovyan/finalOutputtest\")"
   ]
  },
  {
   "cell_type": "code",
   "execution_count": 141,
   "metadata": {},
   "outputs": [
    {
     "name": "stdout",
     "output_type": "stream",
     "text": [
      "AK,2016,123458.0\n",
      "AK,2016,8,123458.0\n",
      "AK,2016,8,8,123458.0\n",
      "AL,2017,123457.0\n",
      "AL,2016,346918.0\n",
      "AL,2016,8,346918.0\n",
      "AL,2017,8,123457.0\n",
      "AL,2017,8,8,123457.0\n",
      "AL,2016,8,8,346918.0\n",
      "CA,2016,123456.0\n",
      "CA,2016,2,123456.0\n",
      "CA,2016,2,2,123456.0\n"
     ]
    }
   ],
   "source": [
    "sc.textFile(\"file:///home/jovyan/finalOutput\").collect().foreach(println)"
   ]
  },
  {
   "cell_type": "code",
   "execution_count": null,
   "metadata": {},
   "outputs": [],
   "source": []
  }
 ],
 "metadata": {
  "kernelspec": {
   "display_name": "Apache Toree - Scala",
   "language": "scala",
   "name": "apache_toree_scala"
  },
  "language_info": {
   "codemirror_mode": "text/x-scala",
   "file_extension": ".scala",
   "mimetype": "text/x-scala",
   "name": "scala",
   "pygments_lexer": "scala",
   "version": "2.11.12"
  }
 },
 "nbformat": 4,
 "nbformat_minor": 2
}
